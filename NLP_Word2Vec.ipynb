{
  "nbformat": 4,
  "nbformat_minor": 0,
  "metadata": {
    "colab": {
      "provenance": []
    },
    "kernelspec": {
      "name": "python3",
      "display_name": "Python 3"
    },
    "language_info": {
      "name": "python"
    }
  },
  "cells": [
    {
      "cell_type": "markdown",
      "source": [
        "##Mounting Drive"
      ],
      "metadata": {
        "id": "zw7CBaMnviqT"
      }
    },
    {
      "cell_type": "code",
      "execution_count": null,
      "metadata": {
        "id": "niKxKZcfvZH4"
      },
      "outputs": [],
      "source": [
        "from google.colab import drive\n",
        "drive.mount('/content/drive')"
      ]
    },
    {
      "cell_type": "markdown",
      "source": [
        "###Loading Word2Vec API"
      ],
      "metadata": {
        "id": "PmHLW1ppvoAH"
      }
    },
    {
      "cell_type": "code",
      "source": [
        "import gensim.downloader as api\n",
        "wv = api.load('word2vec-google-news-300')"
      ],
      "metadata": {
        "id": "5rgYs7RYvlHu"
      },
      "execution_count": null,
      "outputs": []
    },
    {
      "cell_type": "markdown",
      "source": [
        "###Testing Word2Vec"
      ],
      "metadata": {
        "id": "RCdkFj8MvwmO"
      }
    },
    {
      "cell_type": "code",
      "source": [
        "wv.similarity(w1=\"great\", w2=\"good\")"
      ],
      "metadata": {
        "id": "DQ2UlK9Ovrbv"
      },
      "execution_count": null,
      "outputs": []
    },
    {
      "cell_type": "code",
      "source": [
        "wv_great = wv[\"great\"]\n",
        "wv_good = wv[\"good\"]\n"
      ],
      "metadata": {
        "id": "5br11-__v3C3"
      },
      "execution_count": null,
      "outputs": []
    },
    {
      "cell_type": "code",
      "source": [
        "wv_great.shape, wv_good.shape"
      ],
      "metadata": {
        "id": "UUomxfvIv5YR"
      },
      "execution_count": null,
      "outputs": []
    },
    {
      "cell_type": "markdown",
      "source": [
        "###Installing Spacy And Dependencies"
      ],
      "metadata": {
        "id": "VHOv26CRv_oS"
      }
    },
    {
      "cell_type": "code",
      "source": [
        "import pandas as pd\n",
        "import numpy as np"
      ],
      "metadata": {
        "id": "nXkqWuq-wc7M"
      },
      "execution_count": null,
      "outputs": []
    },
    {
      "cell_type": "code",
      "source": [
        "import locale\n",
        "def getpreferredencoding(do_setlocale = True):\n",
        "    return \"UTF-8\"\n",
        "locale.getpreferredencoding = getpreferredencoding"
      ],
      "metadata": {
        "id": "-d0-yBsQwEJ_"
      },
      "execution_count": null,
      "outputs": []
    },
    {
      "cell_type": "code",
      "source": [
        "!python -m spacy download en_core_web_lg"
      ],
      "metadata": {
        "id": "twtcazcbwGje"
      },
      "execution_count": null,
      "outputs": []
    },
    {
      "cell_type": "code",
      "source": [
        "import spacy\n",
        "import numpy as np\n",
        "\n",
        "nlp = spacy.load(\"en_core_web_lg\")\n",
        "\n",
        "def preprocess_and_vectorize(text):\n",
        "    # Handle float values\n",
        "    if isinstance(text, float):\n",
        "        return np.zeros(300)  # Return an array of zeros with the appropriate dimensionality (300 in this case)\n",
        "\n",
        "    # Remove stop words and lemmatize the text\n",
        "    doc = nlp(text)\n",
        "    filtered_tokens = []\n",
        "    for token in doc:\n",
        "        if token.is_stop or token.is_punct:\n",
        "            continue\n",
        "        if token.has_vector:\n",
        "            filtered_tokens.append(token.lemma_)\n",
        "\n",
        "    # If no valid tokens found, return a default vector\n",
        "    if not filtered_tokens:\n",
        "        return np.zeros(300)  # Return an array of zeros with the appropriate dimensionality (300 in this case)\n",
        "\n",
        "    return wv.get_mean_vector(filtered_tokens)\n"
      ],
      "metadata": {
        "id": "o-TATX_6Mwjl"
      },
      "execution_count": null,
      "outputs": []
    },
    {
      "cell_type": "markdown",
      "source": [
        "###Testing Pre-Process Function"
      ],
      "metadata": {
        "id": "A25cE63KwIy_"
      }
    },
    {
      "cell_type": "code",
      "source": [
        "v = preprocess_and_vectorize(\"Don't worry if you don't understand\")\n",
        "v.shape"
      ],
      "metadata": {
        "id": "LsXzmh4vwMRP"
      },
      "execution_count": null,
      "outputs": []
    },
    {
      "cell_type": "markdown",
      "source": [
        "###Loading Dataset And Creating DataFrame"
      ],
      "metadata": {
        "id": "4aL4_iONwTUo"
      }
    },
    {
      "cell_type": "code",
      "source": [
        "train_df = pd.read_csv('/content/drive/MyDrive/NLP Research/Dataset/train_data.csv')\n",
        "train_df"
      ],
      "metadata": {
        "id": "473D5rhtwXwd"
      },
      "execution_count": null,
      "outputs": []
    },
    {
      "cell_type": "markdown",
      "source": [
        "###Printing First 5 Rows"
      ],
      "metadata": {
        "id": "T3tX4pM2x4SA"
      }
    },
    {
      "cell_type": "code",
      "source": [
        "train_df.head()"
      ],
      "metadata": {
        "id": "jeZVR7YAwu4r"
      },
      "execution_count": null,
      "outputs": []
    },
    {
      "cell_type": "markdown",
      "source": [
        "###Printing Last 5 Rows"
      ],
      "metadata": {
        "id": "d74hOHQjwnlL"
      }
    },
    {
      "cell_type": "code",
      "source": [
        "train_df.tail()"
      ],
      "metadata": {
        "id": "H4y-b9OAwr69"
      },
      "execution_count": null,
      "outputs": []
    },
    {
      "cell_type": "markdown",
      "source": [
        "###Check Distribution Of Labels"
      ],
      "metadata": {
        "id": "qGRAZwwuxIg6"
      }
    },
    {
      "cell_type": "code",
      "source": [
        "#check the distribution of labels\n",
        "train_df['Label'].value_counts()\n"
      ],
      "metadata": {
        "id": "MFX_720zxL5b"
      },
      "execution_count": null,
      "outputs": []
    },
    {
      "cell_type": "markdown",
      "source": [
        "###Creating Vectors For Text"
      ],
      "metadata": {
        "id": "3nZLsgG6yeBK"
      }
    },
    {
      "cell_type": "code",
      "source": [
        "train_df['vector'] = train_df['Text data'].apply(lambda text: preprocess_and_vectorize(text))"
      ],
      "metadata": {
        "id": "w-sOiXLYyhp7"
      },
      "execution_count": null,
      "outputs": []
    },
    {
      "cell_type": "markdown",
      "source": [
        "###Dropping Rows With Null Vectors"
      ],
      "metadata": {
        "id": "jjBCTNfUyt0-"
      }
    },
    {
      "cell_type": "code",
      "source": [
        "# Drop rows where 'vector' is None\n",
        "#train_df.dropna(subset=['vector'], inplace=True)\n"
      ],
      "metadata": {
        "id": "5orNkTnfyyFu"
      },
      "execution_count": null,
      "outputs": []
    },
    {
      "cell_type": "markdown",
      "source": [
        "###Encoding The Labels"
      ],
      "metadata": {
        "id": "o5Fwi9Kaw40U"
      }
    },
    {
      "cell_type": "code",
      "source": [
        "#Add the new column which gives a unique number to each of these labels\n",
        "\n",
        "train_df['label_num'] = train_df['Label'].map({'moderate' : 0, 'not depression': 1, 'severe': 2})\n",
        "\n",
        "#check the results with top 5 rows\n",
        "train_df.head(5)"
      ],
      "metadata": {
        "id": "vGEWnluMw9rg"
      },
      "execution_count": null,
      "outputs": []
    },
    {
      "cell_type": "markdown",
      "source": [
        "##Cross-Validation With Dev Dataset"
      ],
      "metadata": {
        "id": "rLPWyVZdxYm6"
      }
    },
    {
      "cell_type": "markdown",
      "source": [
        "###Loading Dev Dataset"
      ],
      "metadata": {
        "id": "4h0cPZO6xmxp"
      }
    },
    {
      "cell_type": "code",
      "source": [
        "test_df = pd.read_csv('/content/drive/MyDrive/NLP Research/Dataset/Test_data_with_labels - test_data.csv')\n",
        "test_df"
      ],
      "metadata": {
        "id": "sBMqIeHCLDyk"
      },
      "execution_count": null,
      "outputs": []
    },
    {
      "cell_type": "code",
      "source": [
        "dev_df = pd.read_csv('/content/drive/MyDrive/NLP Research/Dataset/dev_data.csv')\n",
        "dev_df"
      ],
      "metadata": {
        "id": "ZdKuyEKcxmA1"
      },
      "execution_count": null,
      "outputs": []
    },
    {
      "cell_type": "markdown",
      "source": [
        "###Printing First 5 Rows"
      ],
      "metadata": {
        "id": "JqPQgU7awj7k"
      }
    },
    {
      "cell_type": "code",
      "source": [
        "test_df.head()"
      ],
      "metadata": {
        "id": "DCeTezkSLP4O"
      },
      "execution_count": null,
      "outputs": []
    },
    {
      "cell_type": "code",
      "source": [
        "dev_df.head()"
      ],
      "metadata": {
        "id": "VQvOc8cYx-rN"
      },
      "execution_count": null,
      "outputs": []
    },
    {
      "cell_type": "markdown",
      "source": [
        "###Printing Last 5 Rows"
      ],
      "metadata": {
        "id": "K8e23l44x-rN"
      }
    },
    {
      "cell_type": "code",
      "source": [
        "test_df.tail()"
      ],
      "metadata": {
        "id": "dRHAByq7LVSw"
      },
      "execution_count": null,
      "outputs": []
    },
    {
      "cell_type": "code",
      "source": [
        "dev_df.tail()"
      ],
      "metadata": {
        "id": "8FR1_kDSx-rO"
      },
      "execution_count": null,
      "outputs": []
    },
    {
      "cell_type": "markdown",
      "source": [
        "###Check Distribution Of Labels"
      ],
      "metadata": {
        "id": "LAIy2ULux-rO"
      }
    },
    {
      "cell_type": "code",
      "source": [
        "test_df['Label'].value_counts()"
      ],
      "metadata": {
        "id": "Vf7RXpFcLXzv"
      },
      "execution_count": null,
      "outputs": []
    },
    {
      "cell_type": "code",
      "source": [
        "#check the distribution of labels\n",
        "dev_df['Class labels'].value_counts()\n"
      ],
      "metadata": {
        "id": "g8nFxGyOx-rO"
      },
      "execution_count": null,
      "outputs": []
    },
    {
      "cell_type": "markdown",
      "source": [
        "###Encoding The Labels"
      ],
      "metadata": {
        "id": "GJTXk54ax-rO"
      }
    },
    {
      "cell_type": "code",
      "source": [
        "#Add the new column which gives a unique number to each of these labels\n",
        "\n",
        "dev_df['label_num'] = dev_df['Class labels'].map({'moderate' : 0, 'not depression': 1, 'severe': 2})\n",
        "\n",
        "#check the results with top 5 rows\n",
        "dev_df.head(5)"
      ],
      "metadata": {
        "id": "xIrspO9jx-rO",
        "colab": {
          "base_uri": "https://localhost:8080/",
          "height": 206
        },
        "outputId": "e332841a-6f3e-40ac-f7cd-9eef9658da8c"
      },
      "execution_count": null,
      "outputs": [
        {
          "output_type": "execute_result",
          "data": {
            "text/plain": [
              "         Pid                                          text data Class labels  \\\n",
              "0  dev_pid_1  Im scared : This is it. I lie to myself every ...     moderate   \n",
              "1  dev_pid_2  New to this but just wanted to vent : I just f...     moderate   \n",
              "2  dev_pid_3  I’m sad : It’s kinda always been an issue. I w...     moderate   \n",
              "3  dev_pid_4  Lonely but not alone. : All of my immediately ...     moderate   \n",
              "4  dev_pid_5  This year has been trash. : I dont know why I’...     moderate   \n",
              "\n",
              "   label_num  \n",
              "0          0  \n",
              "1          0  \n",
              "2          0  \n",
              "3          0  \n",
              "4          0  "
            ],
            "text/html": [
              "\n",
              "  <div id=\"df-c9cfa28b-c520-4f14-b55d-dbf7d0973a03\">\n",
              "    <div class=\"colab-df-container\">\n",
              "      <div>\n",
              "<style scoped>\n",
              "    .dataframe tbody tr th:only-of-type {\n",
              "        vertical-align: middle;\n",
              "    }\n",
              "\n",
              "    .dataframe tbody tr th {\n",
              "        vertical-align: top;\n",
              "    }\n",
              "\n",
              "    .dataframe thead th {\n",
              "        text-align: right;\n",
              "    }\n",
              "</style>\n",
              "<table border=\"1\" class=\"dataframe\">\n",
              "  <thead>\n",
              "    <tr style=\"text-align: right;\">\n",
              "      <th></th>\n",
              "      <th>Pid</th>\n",
              "      <th>text data</th>\n",
              "      <th>Class labels</th>\n",
              "      <th>label_num</th>\n",
              "    </tr>\n",
              "  </thead>\n",
              "  <tbody>\n",
              "    <tr>\n",
              "      <th>0</th>\n",
              "      <td>dev_pid_1</td>\n",
              "      <td>Im scared : This is it. I lie to myself every ...</td>\n",
              "      <td>moderate</td>\n",
              "      <td>0</td>\n",
              "    </tr>\n",
              "    <tr>\n",
              "      <th>1</th>\n",
              "      <td>dev_pid_2</td>\n",
              "      <td>New to this but just wanted to vent : I just f...</td>\n",
              "      <td>moderate</td>\n",
              "      <td>0</td>\n",
              "    </tr>\n",
              "    <tr>\n",
              "      <th>2</th>\n",
              "      <td>dev_pid_3</td>\n",
              "      <td>I’m sad : It’s kinda always been an issue. I w...</td>\n",
              "      <td>moderate</td>\n",
              "      <td>0</td>\n",
              "    </tr>\n",
              "    <tr>\n",
              "      <th>3</th>\n",
              "      <td>dev_pid_4</td>\n",
              "      <td>Lonely but not alone. : All of my immediately ...</td>\n",
              "      <td>moderate</td>\n",
              "      <td>0</td>\n",
              "    </tr>\n",
              "    <tr>\n",
              "      <th>4</th>\n",
              "      <td>dev_pid_5</td>\n",
              "      <td>This year has been trash. : I dont know why I’...</td>\n",
              "      <td>moderate</td>\n",
              "      <td>0</td>\n",
              "    </tr>\n",
              "  </tbody>\n",
              "</table>\n",
              "</div>\n",
              "      <button class=\"colab-df-convert\" onclick=\"convertToInteractive('df-c9cfa28b-c520-4f14-b55d-dbf7d0973a03')\"\n",
              "              title=\"Convert this dataframe to an interactive table.\"\n",
              "              style=\"display:none;\">\n",
              "        \n",
              "  <svg xmlns=\"http://www.w3.org/2000/svg\" height=\"24px\"viewBox=\"0 0 24 24\"\n",
              "       width=\"24px\">\n",
              "    <path d=\"M0 0h24v24H0V0z\" fill=\"none\"/>\n",
              "    <path d=\"M18.56 5.44l.94 2.06.94-2.06 2.06-.94-2.06-.94-.94-2.06-.94 2.06-2.06.94zm-11 1L8.5 8.5l.94-2.06 2.06-.94-2.06-.94L8.5 2.5l-.94 2.06-2.06.94zm10 10l.94 2.06.94-2.06 2.06-.94-2.06-.94-.94-2.06-.94 2.06-2.06.94z\"/><path d=\"M17.41 7.96l-1.37-1.37c-.4-.4-.92-.59-1.43-.59-.52 0-1.04.2-1.43.59L10.3 9.45l-7.72 7.72c-.78.78-.78 2.05 0 2.83L4 21.41c.39.39.9.59 1.41.59.51 0 1.02-.2 1.41-.59l7.78-7.78 2.81-2.81c.8-.78.8-2.07 0-2.86zM5.41 20L4 18.59l7.72-7.72 1.47 1.35L5.41 20z\"/>\n",
              "  </svg>\n",
              "      </button>\n",
              "      \n",
              "  <style>\n",
              "    .colab-df-container {\n",
              "      display:flex;\n",
              "      flex-wrap:wrap;\n",
              "      gap: 12px;\n",
              "    }\n",
              "\n",
              "    .colab-df-convert {\n",
              "      background-color: #E8F0FE;\n",
              "      border: none;\n",
              "      border-radius: 50%;\n",
              "      cursor: pointer;\n",
              "      display: none;\n",
              "      fill: #1967D2;\n",
              "      height: 32px;\n",
              "      padding: 0 0 0 0;\n",
              "      width: 32px;\n",
              "    }\n",
              "\n",
              "    .colab-df-convert:hover {\n",
              "      background-color: #E2EBFA;\n",
              "      box-shadow: 0px 1px 2px rgba(60, 64, 67, 0.3), 0px 1px 3px 1px rgba(60, 64, 67, 0.15);\n",
              "      fill: #174EA6;\n",
              "    }\n",
              "\n",
              "    [theme=dark] .colab-df-convert {\n",
              "      background-color: #3B4455;\n",
              "      fill: #D2E3FC;\n",
              "    }\n",
              "\n",
              "    [theme=dark] .colab-df-convert:hover {\n",
              "      background-color: #434B5C;\n",
              "      box-shadow: 0px 1px 3px 1px rgba(0, 0, 0, 0.15);\n",
              "      filter: drop-shadow(0px 1px 2px rgba(0, 0, 0, 0.3));\n",
              "      fill: #FFFFFF;\n",
              "    }\n",
              "  </style>\n",
              "\n",
              "      <script>\n",
              "        const buttonEl =\n",
              "          document.querySelector('#df-c9cfa28b-c520-4f14-b55d-dbf7d0973a03 button.colab-df-convert');\n",
              "        buttonEl.style.display =\n",
              "          google.colab.kernel.accessAllowed ? 'block' : 'none';\n",
              "\n",
              "        async function convertToInteractive(key) {\n",
              "          const element = document.querySelector('#df-c9cfa28b-c520-4f14-b55d-dbf7d0973a03');\n",
              "          const dataTable =\n",
              "            await google.colab.kernel.invokeFunction('convertToInteractive',\n",
              "                                                     [key], {});\n",
              "          if (!dataTable) return;\n",
              "\n",
              "          const docLinkHtml = 'Like what you see? Visit the ' +\n",
              "            '<a target=\"_blank\" href=https://colab.research.google.com/notebooks/data_table.ipynb>data table notebook</a>'\n",
              "            + ' to learn more about interactive tables.';\n",
              "          element.innerHTML = '';\n",
              "          dataTable['output_type'] = 'display_data';\n",
              "          await google.colab.output.renderOutput(dataTable, element);\n",
              "          const docLink = document.createElement('div');\n",
              "          docLink.innerHTML = docLinkHtml;\n",
              "          element.appendChild(docLink);\n",
              "        }\n",
              "      </script>\n",
              "    </div>\n",
              "  </div>\n",
              "  "
            ]
          },
          "metadata": {},
          "execution_count": 18
        }
      ]
    },
    {
      "cell_type": "code",
      "source": [
        "#Add the new column which gives a unique number to each of these labels\n",
        "\n",
        "test_df['label_num'] = test_df['Label'].map({'moderate' : 0, 'not depression': 1, 'severe': 2})\n",
        "\n",
        "#check the results with top 5 rows\n",
        "test_df.head(5)"
      ],
      "metadata": {
        "id": "Uq1j7bc6LeCU"
      },
      "execution_count": null,
      "outputs": []
    },
    {
      "cell_type": "markdown",
      "source": [
        "###Creating Vectors For Text"
      ],
      "metadata": {
        "id": "nB4OscKIy5Ep"
      }
    },
    {
      "cell_type": "code",
      "source": [
        "test_df['vector'] = test_df['Text data'].apply(lambda text: preprocess_and_vectorize(text))"
      ],
      "metadata": {
        "id": "JdtmxgWALohn"
      },
      "execution_count": null,
      "outputs": []
    },
    {
      "cell_type": "code",
      "source": [
        "dev_df['vector'] = dev_df['text data'].apply(lambda text: preprocess_and_vectorize(text))"
      ],
      "metadata": {
        "id": "JG0NrMBzy5E2"
      },
      "execution_count": null,
      "outputs": []
    },
    {
      "cell_type": "markdown",
      "source": [
        "###Dropping Rows With Null Vectors"
      ],
      "metadata": {
        "id": "kMDutFXmy5E2"
      }
    },
    {
      "cell_type": "code",
      "source": [
        "# Drop rows where 'vector' is None\n",
        "#dev_df.dropna(subset=['vector'], inplace=True)\n"
      ],
      "metadata": {
        "id": "VCDPlWPsy5E2"
      },
      "execution_count": null,
      "outputs": []
    },
    {
      "cell_type": "markdown",
      "source": [
        "###Creating Train And Test Values"
      ],
      "metadata": {
        "id": "PxXlUTnszPFn"
      }
    },
    {
      "cell_type": "code",
      "source": [
        "X_train = train_df['vector']\n",
        "Y_train = train_df['label_num']\n",
        "\n",
        "\n",
        "X_test = test_df['vector']\n",
        "Y_test = test_df['label_num']"
      ],
      "metadata": {
        "id": "fPEuQj6OL1_3"
      },
      "execution_count": null,
      "outputs": []
    },
    {
      "cell_type": "code",
      "source": [
        "X_train = train_df['vector']\n",
        "Y_train = train_df['label_num']\n",
        "\n",
        "\n",
        "X_test = dev_df['vector']\n",
        "Y_test = dev_df['label_num']"
      ],
      "metadata": {
        "id": "AR5BcFIAzOuQ"
      },
      "execution_count": null,
      "outputs": []
    },
    {
      "cell_type": "markdown",
      "source": [
        "###Modifying Values To Fit To Model"
      ],
      "metadata": {
        "id": "GXlfu7M0zbPA"
      }
    },
    {
      "cell_type": "code",
      "source": [
        "print(\"Shape of X_train before reshaping: \", X_train.shape)\n",
        "print(\"Shape of X_test before reshaping: \", X_test.shape)\n",
        "\n",
        "\n",
        "X_train_2d = np.stack(X_train)\n",
        "X_test_2d =  np.stack(X_test)\n",
        "\n",
        "print(\"Shape of X_train after reshaping: \", X_train_2d.shape)\n",
        "print(\"Shape of X_test after reshaping: \", X_test_2d.shape)"
      ],
      "metadata": {
        "id": "ipM8D3NMziYW"
      },
      "execution_count": null,
      "outputs": []
    },
    {
      "cell_type": "markdown",
      "source": [
        "###Classifying The Results Using SVC"
      ],
      "metadata": {
        "id": "AW7FuvvgzmQO"
      }
    },
    {
      "cell_type": "code",
      "source": [
        "from sklearn.svm import SVC\n",
        "from sklearn.metrics import classification_report\n",
        "\n",
        "# 1. Creating an SVM model object\n",
        "clf = SVC()\n",
        "\n",
        "# 2. Fit with X_train_2d and Y_train\n",
        "clf.fit(X_train_2d, Y_train)\n",
        "\n",
        "# 3. Get the predictions for X_test_2d and store it in y_pred\n",
        "y_pred = clf.predict(X_test_2d)\n",
        "\n",
        "# 4. Print the classification report\n",
        "print(classification_report(Y_test, y_pred))\n"
      ],
      "metadata": {
        "id": "79YUMfilzqlA"
      },
      "execution_count": null,
      "outputs": []
    },
    {
      "cell_type": "markdown",
      "source": [
        "##Predicting Values Using Test Dataset"
      ],
      "metadata": {
        "id": "xcFcUdS2zsoD"
      }
    },
    {
      "cell_type": "markdown",
      "source": [
        "###Loading Test Dataaset"
      ],
      "metadata": {
        "id": "DithGdTJz649"
      }
    },
    {
      "cell_type": "code",
      "source": [
        "test_df = pd.read_csv('/content/drive/MyDrive/NLP/test_data - test_data.csv')\n",
        "test_df"
      ],
      "metadata": {
        "id": "PqaR8K_hz1pT"
      },
      "execution_count": null,
      "outputs": []
    },
    {
      "cell_type": "markdown",
      "source": [
        "###Printing First 5 Rows"
      ],
      "metadata": {
        "id": "saAgyB5x0FZc"
      }
    },
    {
      "cell_type": "code",
      "source": [
        "test_df.head()"
      ],
      "metadata": {
        "id": "FeOmoFZ-0FZo"
      },
      "execution_count": null,
      "outputs": []
    },
    {
      "cell_type": "markdown",
      "source": [
        "###Printing Last 5 Rows"
      ],
      "metadata": {
        "id": "qjn0sUVs0FZo"
      }
    },
    {
      "cell_type": "code",
      "source": [
        "test_df.tail()"
      ],
      "metadata": {
        "id": "0b-ieMvR0FZp"
      },
      "execution_count": null,
      "outputs": []
    },
    {
      "cell_type": "code",
      "source": [
        "test_df= test_df.fillna('')"
      ],
      "metadata": {
        "id": "l6S5RHwdMEbS"
      },
      "execution_count": null,
      "outputs": []
    },
    {
      "cell_type": "markdown",
      "source": [
        "###Creating Vectors For Text"
      ],
      "metadata": {
        "id": "GGW-ZmTB0NHb"
      }
    },
    {
      "cell_type": "code",
      "source": [
        "test_df['vector'] = test_df['Text data'].apply(lambda text: preprocess_and_vectorize(text))"
      ],
      "metadata": {
        "id": "rhYvQLfT0NHc"
      },
      "execution_count": null,
      "outputs": []
    },
    {
      "cell_type": "markdown",
      "source": [
        "###Dropping Rows With Null Vectors"
      ],
      "metadata": {
        "id": "gF_uQlb90NHc"
      }
    },
    {
      "cell_type": "code",
      "source": [
        "import pandas as pd\n",
        "import numpy as np\n",
        "\n",
        "# Iterate over the rows of the DataFrame\n",
        "for i, row in test_df.iterrows():\n",
        "    vector = row['vector']\n",
        "    # Check if vector is not None\n",
        "    if vector is None:\n",
        "        print(row)\n",
        "\n",
        "\n"
      ],
      "metadata": {
        "id": "srqdhZ-ILDnJ"
      },
      "execution_count": null,
      "outputs": []
    },
    {
      "cell_type": "code",
      "source": [
        "# Drop rows where 'vector' is None\n",
        "test_df.dropna(subset=['vector'], inplace=True)\n"
      ],
      "metadata": {
        "id": "mtU3zQTJ0NHc"
      },
      "execution_count": null,
      "outputs": []
    },
    {
      "cell_type": "markdown",
      "source": [
        "###Predicting Values"
      ],
      "metadata": {
        "id": "q9Wiu20R0U3u"
      }
    },
    {
      "cell_type": "code",
      "source": [
        "X_train = train_df['vector']\n",
        "Y_train = train_df['label_num']\n",
        "\n",
        "X_test = test_df['vector']"
      ],
      "metadata": {
        "id": "03r03qsH0Jjk"
      },
      "execution_count": null,
      "outputs": []
    },
    {
      "cell_type": "markdown",
      "source": [
        "###Modifying To Fit To Model"
      ],
      "metadata": {
        "id": "uSpC0Yat0lIr"
      }
    },
    {
      "cell_type": "code",
      "source": [
        "print(\"Shape of X_train before reshaping: \", X_train.shape)\n",
        "print(\"Shape of X_test before reshaping: \", X_test.shape)\n",
        "\n",
        "\n",
        "X_train_2d = np.stack(X_train)\n",
        "X_test_2d =  np.stack(X_test)\n",
        "\n",
        "print(\"Shape of X_train after reshaping: \", X_train_2d.shape)\n",
        "print(\"Shape of X_test after reshaping: \", X_test_2d.shape)"
      ],
      "metadata": {
        "id": "Zm1br9C30elJ"
      },
      "execution_count": null,
      "outputs": []
    },
    {
      "cell_type": "markdown",
      "source": [
        "###Classifying The Result"
      ],
      "metadata": {
        "id": "-egOEqS30q8M"
      }
    },
    {
      "cell_type": "code",
      "source": [
        "from sklearn.svm import SVC\n",
        "from sklearn.metrics import classification_report\n",
        "\n",
        "# 1. Creating an SVM model object\n",
        "clf = SVC()\n",
        "\n",
        "# 2. Fit with X_train_2d and Y_train\n",
        "clf.fit(X_train_2d, Y_train)\n",
        "\n",
        "# 3. Get the predictions for X_test_2d and store it in y_pred\n",
        "y_pred = clf.predict(X_test_2d)\n",
        "\n"
      ],
      "metadata": {
        "id": "2J_b5Oa30t8E"
      },
      "execution_count": null,
      "outputs": []
    },
    {
      "cell_type": "code",
      "source": [
        "\n",
        "# Create a mapping dictionary\n",
        "label_map = {0: 'moderate', 1: 'not depression', 2: 'severe'}\n",
        "\n",
        "# Convert the predicted labels to their corresponding categories\n",
        "predicted_labels = [label_map[label] for label in y_pred]\n",
        "\n",
        "# Create the 'predictions' column in the test_df DataFrame\n",
        "test_df['predictions'] = pd.Series(predicted_labels)"
      ],
      "metadata": {
        "id": "hif7Q56rAQ8J"
      },
      "execution_count": null,
      "outputs": []
    },
    {
      "cell_type": "code",
      "source": [
        "test_df"
      ],
      "metadata": {
        "id": "RD6qJBcUI6qR"
      },
      "execution_count": null,
      "outputs": []
    },
    {
      "cell_type": "markdown",
      "source": [
        "###Converting To TSV Format"
      ],
      "metadata": {
        "id": "ATIz7G_xHXip"
      }
    },
    {
      "cell_type": "code",
      "source": [
        "# Rename columns\n",
        "test_df = test_df.rename(columns={'Pid': 'pid', 'predictions': 'class_label'})\n",
        "\n",
        "# Remove columns\n",
        "test_df = test_df.drop(['Text data', 'vector'], axis=1)\n"
      ],
      "metadata": {
        "id": "k_dFP_SFHZ9I"
      },
      "execution_count": null,
      "outputs": []
    },
    {
      "cell_type": "code",
      "source": [
        "test_df"
      ],
      "metadata": {
        "id": "a-EM3nt7I75s"
      },
      "execution_count": null,
      "outputs": []
    },
    {
      "cell_type": "markdown",
      "source": [
        "###Converting To TSV Formats"
      ],
      "metadata": {
        "id": "m5Aio8b90pIC"
      }
    },
    {
      "cell_type": "markdown",
      "source": [
        "###Run1-Bert"
      ],
      "metadata": {
        "id": "xLl_CQvh1Qk7"
      }
    },
    {
      "cell_type": "code",
      "source": [
        "run1 = pd.read_csv(\"/content/test_predictions.csv\")\n",
        "run1"
      ],
      "metadata": {
        "id": "065kbI_i0oTr"
      },
      "execution_count": null,
      "outputs": []
    },
    {
      "cell_type": "code",
      "source": [
        "# Rename columns\n",
        "run1 = run1.rename(columns={'Pid': 'pid', 'predicted_label': 'class_label'})\n",
        "\n",
        "# Remove columns\n",
        "run1 = run1.drop(['Text data'], axis=1)\n"
      ],
      "metadata": {
        "id": "8x_gCfG_08g9"
      },
      "execution_count": null,
      "outputs": []
    },
    {
      "cell_type": "code",
      "source": [
        "run1"
      ],
      "metadata": {
        "id": "YCQm2lly1IRK"
      },
      "execution_count": null,
      "outputs": []
    },
    {
      "cell_type": "code",
      "source": [
        "run1.to_csv(\"TechSSN1_run1.tsv\",index=False,sep=\"\\t\")"
      ],
      "metadata": {
        "id": "gnnF6quB0jD7"
      },
      "execution_count": null,
      "outputs": []
    },
    {
      "cell_type": "markdown",
      "source": [
        "###Run2-Word2Vec"
      ],
      "metadata": {
        "id": "lfzjfu6u1Lp8"
      }
    },
    {
      "cell_type": "code",
      "source": [
        "test_df.to_csv(\"TechSSN1_run2.tsv\",index=False,sep=\"\\t\")"
      ],
      "metadata": {
        "id": "dIi1vxBNsuQe"
      },
      "execution_count": null,
      "outputs": []
    },
    {
      "cell_type": "markdown",
      "source": [
        "###Run3-Vectorize"
      ],
      "metadata": {
        "id": "EPYPt4121yBt"
      }
    },
    {
      "cell_type": "code",
      "source": [
        "run3 = pd.read_csv(\"/content/output_file_LSVC.csv\")\n",
        "run3"
      ],
      "metadata": {
        "id": "rk6tiVlu17Hf"
      },
      "execution_count": null,
      "outputs": []
    },
    {
      "cell_type": "code",
      "source": [
        "# Rename columns\n",
        "run3 = run3.rename(columns={'Pid': 'pid', 'Predicted_Label': 'class_label'})\n",
        "\n",
        "# Remove columns\n",
        "run3 = run3.drop(['Unnamed: 0'], axis=1)\n"
      ],
      "metadata": {
        "id": "FZiVRzL117Hl"
      },
      "execution_count": null,
      "outputs": []
    },
    {
      "cell_type": "code",
      "source": [
        "run3"
      ],
      "metadata": {
        "id": "yJSWA19G17Hl"
      },
      "execution_count": null,
      "outputs": []
    },
    {
      "cell_type": "code",
      "source": [
        "run3.to_csv(\"TechSSN1_run3.tsv\",index=False,sep=\"\\t\")"
      ],
      "metadata": {
        "id": "bLhmoF4N17Hl"
      },
      "execution_count": null,
      "outputs": []
    },
    {
      "cell_type": "markdown",
      "source": [
        "##Comparing Values\n"
      ],
      "metadata": {
        "id": "qsuiLaSiMHgj"
      }
    },
    {
      "cell_type": "code",
      "source": [
        "predicted_df = pd.read_csv('/content/drive/MyDrive/NLP Research/Dataset/output.csv')\n",
        "predicted_df"
      ],
      "metadata": {
        "id": "D8GKwdI4N9oD"
      },
      "execution_count": null,
      "outputs": []
    },
    {
      "cell_type": "code",
      "source": [
        "predicted_df.rename(columns={' Pid': 'Pid'}, inplace=True)"
      ],
      "metadata": {
        "id": "74nxc3hqP38m"
      },
      "execution_count": null,
      "outputs": []
    },
    {
      "cell_type": "code",
      "source": [
        "print(predicted_df.columns)"
      ],
      "metadata": {
        "colab": {
          "base_uri": "https://localhost:8080/"
        },
        "id": "Zj2xrYFEP6s1",
        "outputId": "d8232cee-ef70-4f83-a3c9-21961d0b1cec"
      },
      "execution_count": null,
      "outputs": [
        {
          "output_type": "stream",
          "name": "stdout",
          "text": [
            "Index(['Pid', 'class_label'], dtype='object')\n"
          ]
        }
      ]
    },
    {
      "cell_type": "code",
      "source": [
        "actual_df = pd.read_csv('/content/drive/MyDrive/NLP Research/Dataset/Test_data_with_labels - test_data.csv')\n",
        "actual_df"
      ],
      "metadata": {
        "id": "u25zdYzSN6Q7"
      },
      "execution_count": null,
      "outputs": []
    },
    {
      "cell_type": "code",
      "source": [
        "print(predicted_df.columns)\n",
        "print(actual_df.columns)"
      ],
      "metadata": {
        "colab": {
          "base_uri": "https://localhost:8080/"
        },
        "id": "o5sHz5L1OeMQ",
        "outputId": "51857aba-ed3a-41e0-e237-838aeace21aa"
      },
      "execution_count": null,
      "outputs": [
        {
          "output_type": "stream",
          "name": "stdout",
          "text": [
            "Index([' Pid', 'class_label'], dtype='object')\n",
            "Index(['Pid', 'Text data', 'Label'], dtype='object')\n"
          ]
        }
      ]
    },
    {
      "cell_type": "code",
      "source": [
        "import pandas as pd\n",
        "from sklearn.metrics import accuracy_score, classification_report\n",
        "\n",
        "# Read the predicted CSV file\n",
        "predicted_df = pd.read_csv('/content/drive/MyDrive/NLP Research/Dataset/output.csv')\n",
        "predicted_df.rename(columns={' Pid': 'Pid'}, inplace=True)\n",
        "# Read the actual labels CSV file\n",
        "actual_df = pd.read_csv('/content/drive/MyDrive/NLP Research/Dataset/Test_data_with_labels - test_data.csv')\n",
        "\n",
        "# Merge the two dataframes on the text column\n",
        "merged_df = pd.merge(predicted_df, actual_df, on='Pid')\n",
        "\n",
        "# Extract the predicted and actual labels\n",
        "predicted_labels = merged_df['class_label']\n",
        "actual_labels = merged_df['Label']\n",
        "\n",
        "# Calculate accuracy\n",
        "accuracy = accuracy_score(actual_labels, predicted_labels)\n",
        "print('Accuracy:', accuracy)\n",
        "\n",
        "# Generate classification report\n",
        "report = classification_report(actual_labels, predicted_labels)\n",
        "print('Classification Report:')\n",
        "print(report)\n"
      ],
      "metadata": {
        "id": "Nb_BNJvBMJ41"
      },
      "execution_count": null,
      "outputs": []
    }
  ]
}