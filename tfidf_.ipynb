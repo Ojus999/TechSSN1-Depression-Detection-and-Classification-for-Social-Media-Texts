{
  "nbformat": 4,
  "nbformat_minor": 0,
  "metadata": {
    "colab": {
      "provenance": [],
      "gpuType": "T4"
    },
    "kernelspec": {
      "name": "python3",
      "display_name": "Python 3"
    },
    "language_info": {
      "name": "python"
    },
    "accelerator": "GPU"
  },
  "cells": [
    {
      "cell_type": "code",
      "execution_count": null,
      "metadata": {
        "id": "UXLp3O20ur-f"
      },
      "outputs": [],
      "source": [
        "\n",
        "!pip install transformers\n",
        "\n",
        "!pip install tqdm"
      ]
    },
    {
      "cell_type": "code",
      "source": [],
      "metadata": {
        "id": "jrnZdIdN42ls"
      },
      "execution_count": null,
      "outputs": []
    },
    {
      "cell_type": "code",
      "source": [
        "import numpy as np\n"
      ],
      "metadata": {
        "id": "FqAnPkKQvIh-"
      },
      "execution_count": null,
      "outputs": []
    },
    {
      "cell_type": "code",
      "source": [
        "import pandas as pd"
      ],
      "metadata": {
        "id": "bDIWXEaSj3lM"
      },
      "execution_count": null,
      "outputs": []
    },
    {
      "cell_type": "code",
      "source": [
        "\n",
        "df=pd.read_csv('train.csv',engine='python')"
      ],
      "metadata": {
        "id": "rnHF_mn2msRy"
      },
      "execution_count": null,
      "outputs": []
    },
    {
      "cell_type": "code",
      "source": [
        "df\n"
      ],
      "metadata": {
        "id": "crEdsXAYm5xg"
      },
      "execution_count": null,
      "outputs": []
    },
    {
      "cell_type": "code",
      "source": [
        "import pandas as pd\n",
        "from sklearn.feature_extraction.text import TfidfVectorizer\n",
        "from sklearn.svm import LinearSVC\n",
        "from sklearn.metrics import classification_report\n",
        "\n",
        "# Load the training dataset\n",
        "train_dataset = df # Replace 'train_dataset.csv' with the actual file name\n",
        "\n",
        "# Load the validation dataset\n",
        "val_dataset = pd.read_csv('dev_data.csv')  # Replace 'validation_dataset.csv' with the actual file name\n",
        "\n",
        "train_dataset.dropna(inplace=True)\n",
        "\n",
        "# Remove null values from the validation dataset\n",
        "val_dataset.dropna(inplace=True)\n",
        "# Separate the text and label columns in the training dataset\n",
        "train_data = train_dataset['Text_data']\n",
        "train_labels = train_dataset['Label']\n",
        "\n",
        "\n",
        "# Separate the text and label columns in the validation dataset\n",
        "val_data = val_dataset['Text_data']\n",
        "val_labels = val_dataset['Label']\n",
        "\n",
        "# Vectorize the text data\n",
        "vectorizer = TfidfVectorizer()\n",
        "train_vectors = vectorizer.fit_transform(train_data)\n",
        "val_vectors = vectorizer.transform(val_data)\n",
        "\n",
        "# Train the model\n",
        "model = LinearSVC()\n",
        "model.fit(train_vectors, train_labels)\n",
        "\n",
        "# Predict labels for the validation dataset\n",
        "val_predictions = model.predict(val_vectors)\n",
        "\n",
        "# Generate classification report\n",
        "report = classification_report(val_labels, val_predictions)\n",
        "print('Classification Report:\\n', report)\n",
        "accuracy = model.score(val_vectors, val_labels)\n",
        "print('Accuracy:', accuracy)\n"
      ],
      "metadata": {
        "colab": {
          "base_uri": "https://localhost:8080/"
        },
        "id": "s0iRk0yrwK-F",
        "outputId": "5511c3ec-c653-4910-cdc8-d87782c5c459"
      },
      "execution_count": null,
      "outputs": [
        {
          "output_type": "stream",
          "name": "stdout",
          "text": [
            "Classification Report:\n",
            "                 precision    recall  f1-score   support\n",
            "\n",
            "      moderate       0.72      0.80      0.76      2169\n",
            "not depression       0.44      0.38      0.41       848\n",
            "        severe       0.46      0.16      0.23       228\n",
            "\n",
            "      accuracy                           0.65      3245\n",
            "     macro avg       0.54      0.45      0.47      3245\n",
            "  weighted avg       0.62      0.65      0.63      3245\n",
            "\n",
            "Accuracy: 0.6456086286594761\n"
          ]
        }
      ]
    },
    {
      "cell_type": "code",
      "source": [
        "\n",
        "test_dataset = pd.read_csv('test_data.csv')  # Replace 'test_data.csv' with the actual test dataset\n",
        "\n",
        "# Separate the text column in the test dataset\n",
        "test_data = test_dataset['Text_data']\n",
        "\n",
        "# Handle missing values in the test data\n",
        "test_data = test_data.fillna('')  # Replace NaN with an empty string or choose an appropriate placeholder\n",
        "\n",
        "# Vectorize the test data\n",
        "test_vectors = vectorizer.transform(test_data)\n",
        "\n",
        "# Predict labels for the test dataset\n",
        "test_predictions = model.predict(test_vectors)\n",
        "\n",
        "# Add the predictions to the test dataset\n",
        "test_dataset['Predicted_Label'] = test_predictions\n",
        "\n",
        "# Save the updated test dataset with predictions\n",
        "#test_dataset.to_csv('test_data_with_predictions.csv', index=False)  # Replace 'test_data_with_predictions.csv' with the desired output file name\n"
      ],
      "metadata": {
        "id": "xCerApUdxYg-"
      },
      "execution_count": null,
      "outputs": []
    },
    {
      "cell_type": "code",
      "source": [
        "test_dataset"
      ],
      "metadata": {
        "id": "G1iw4LrRxomG"
      },
      "execution_count": null,
      "outputs": []
    },
    {
      "cell_type": "code",
      "source": [
        "test_final_tsv=test_dataset.drop('Text_data',axis=1)"
      ],
      "metadata": {
        "id": "L4WUC0CYt84F"
      },
      "execution_count": null,
      "outputs": []
    },
    {
      "cell_type": "code",
      "source": [
        "\n",
        "\n",
        "# Assuming you have a DataFrame named 'df'\n",
        "# and you want to save it as 'output_file.tsv'\n",
        "\n",
        "test_final_tsv.to_csv('output_file_LSVC.tsv', sep='\\t', index=False)\n",
        "test_final_tsv.to_csv('output_file_LSVC.csv')\n",
        "from google.colab import files\n",
        "\n",
        "\n",
        "# Download the file\n",
        "files.download('output_file_LSVC.tsv')\n"
      ],
      "metadata": {
        "id": "AwV5xzD_8X4z",
        "colab": {
          "base_uri": "https://localhost:8080/",
          "height": 17
        },
        "outputId": "95fec255-b200-444a-ab8c-32317b2ec0ca"
      },
      "execution_count": null,
      "outputs": [
        {
          "output_type": "display_data",
          "data": {
            "text/plain": [
              "<IPython.core.display.Javascript object>"
            ],
            "application/javascript": [
              "\n",
              "    async function download(id, filename, size) {\n",
              "      if (!google.colab.kernel.accessAllowed) {\n",
              "        return;\n",
              "      }\n",
              "      const div = document.createElement('div');\n",
              "      const label = document.createElement('label');\n",
              "      label.textContent = `Downloading \"${filename}\": `;\n",
              "      div.appendChild(label);\n",
              "      const progress = document.createElement('progress');\n",
              "      progress.max = size;\n",
              "      div.appendChild(progress);\n",
              "      document.body.appendChild(div);\n",
              "\n",
              "      const buffers = [];\n",
              "      let downloaded = 0;\n",
              "\n",
              "      const channel = await google.colab.kernel.comms.open(id);\n",
              "      // Send a message to notify the kernel that we're ready.\n",
              "      channel.send({})\n",
              "\n",
              "      for await (const message of channel.messages) {\n",
              "        // Send a message to notify the kernel that we're ready.\n",
              "        channel.send({})\n",
              "        if (message.buffers) {\n",
              "          for (const buffer of message.buffers) {\n",
              "            buffers.push(buffer);\n",
              "            downloaded += buffer.byteLength;\n",
              "            progress.value = downloaded;\n",
              "          }\n",
              "        }\n",
              "      }\n",
              "      const blob = new Blob(buffers, {type: 'application/binary'});\n",
              "      const a = document.createElement('a');\n",
              "      a.href = window.URL.createObjectURL(blob);\n",
              "      a.download = filename;\n",
              "      div.appendChild(a);\n",
              "      a.click();\n",
              "      div.remove();\n",
              "    }\n",
              "  "
            ]
          },
          "metadata": {}
        },
        {
          "output_type": "display_data",
          "data": {
            "text/plain": [
              "<IPython.core.display.Javascript object>"
            ],
            "application/javascript": [
              "download(\"download_02696db6-467c-4f97-aae3-ca3f42bcfd68\", \"output_file_LSVC.tsv\", 11649)"
            ]
          },
          "metadata": {}
        }
      ]
    },
    {
      "cell_type": "code",
      "source": [
        "\n",
        "test_final_tsv.to_csv('output_file_LSVC.csv')\n",
        "files.download('output_file_LSVC.csv')"
      ],
      "metadata": {
        "colab": {
          "base_uri": "https://localhost:8080/",
          "height": 17
        },
        "id": "-3gqEiixuUx1",
        "outputId": "c0567046-f44c-4e95-a4a5-846fb19993d9"
      },
      "execution_count": null,
      "outputs": [
        {
          "output_type": "display_data",
          "data": {
            "text/plain": [
              "<IPython.core.display.Javascript object>"
            ],
            "application/javascript": [
              "\n",
              "    async function download(id, filename, size) {\n",
              "      if (!google.colab.kernel.accessAllowed) {\n",
              "        return;\n",
              "      }\n",
              "      const div = document.createElement('div');\n",
              "      const label = document.createElement('label');\n",
              "      label.textContent = `Downloading \"${filename}\": `;\n",
              "      div.appendChild(label);\n",
              "      const progress = document.createElement('progress');\n",
              "      progress.max = size;\n",
              "      div.appendChild(progress);\n",
              "      document.body.appendChild(div);\n",
              "\n",
              "      const buffers = [];\n",
              "      let downloaded = 0;\n",
              "\n",
              "      const channel = await google.colab.kernel.comms.open(id);\n",
              "      // Send a message to notify the kernel that we're ready.\n",
              "      channel.send({})\n",
              "\n",
              "      for await (const message of channel.messages) {\n",
              "        // Send a message to notify the kernel that we're ready.\n",
              "        channel.send({})\n",
              "        if (message.buffers) {\n",
              "          for (const buffer of message.buffers) {\n",
              "            buffers.push(buffer);\n",
              "            downloaded += buffer.byteLength;\n",
              "            progress.value = downloaded;\n",
              "          }\n",
              "        }\n",
              "      }\n",
              "      const blob = new Blob(buffers, {type: 'application/binary'});\n",
              "      const a = document.createElement('a');\n",
              "      a.href = window.URL.createObjectURL(blob);\n",
              "      a.download = filename;\n",
              "      div.appendChild(a);\n",
              "      a.click();\n",
              "      div.remove();\n",
              "    }\n",
              "  "
            ]
          },
          "metadata": {}
        },
        {
          "output_type": "display_data",
          "data": {
            "text/plain": [
              "<IPython.core.display.Javascript object>"
            ],
            "application/javascript": [
              "download(\"download_d5635d97-b3e2-423d-b271-454a1972557f\", \"output_file_LSVC.csv\", 13536)"
            ]
          },
          "metadata": {}
        }
      ]
    },
    {
      "cell_type": "code",
      "source": [
        "import pandas as pd\n",
        "from sklearn.metrics import accuracy_score, classification_report\n",
        "\n",
        "# Read the predicted CSV file\n",
        "predicted_df = pd.read_csv('test_predictions.csv')\n",
        "\n",
        "# Read the actual labels CSV file\n",
        "actual_df = pd.read_csv('actual_test_data.csv')\n",
        "\n",
        "# Merge the two dataframes on the text column\n",
        "merged_df = pd.merge(predicted_df, actual_df, on='Pid')\n",
        "\n",
        "# Extract the predicted and actual labels\n",
        "predicted_labels = merged_df['predicted_label']\n",
        "actual_labels = merged_df['Label']\n",
        "\n",
        "# Calculate accuracy\n",
        "accuracy = accuracy_score(actual_labels, predicted_labels)\n",
        "print('Accuracy:', accuracy)\n",
        "\n",
        "# Generate classification report\n",
        "report = classification_report(actual_labels, predicted_labels)\n",
        "print('Classification Report:')\n",
        "print(report)\n"
      ],
      "metadata": {
        "id": "Zjbq9Nipu4Q8"
      },
      "execution_count": null,
      "outputs": []
    }
  ]
}